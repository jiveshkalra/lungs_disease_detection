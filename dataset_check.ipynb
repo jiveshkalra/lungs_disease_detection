{
 "cells": [
  {
   "cell_type": "code",
   "execution_count": 1,
   "metadata": {},
   "outputs": [],
   "source": [
    "\n",
    "import pandas as pd\n",
    "import os\n",
    "import random\n",
    "import numpy as np  \n",
    "# Set the environment variable\n",
    "os.environ[\"KMP_DUPLICATE_LIB_OK\"] = \"TRUE\"\n",
    "\n",
    "audio_files_path = 'respiratory-sound-database/Respiratory_Sound_Database/Respiratory_Sound_Database/audio_and_txt_files'\n",
    "c_names = ['Bronchiectasis', 'COPD', 'Healthy', 'Pneumonia', 'URTI']\n",
    "\n",
    "# Loading Audio Files\n",
    "audio_files = [] \n",
    "for file in os.listdir(audio_files_path):\n",
    "    if file.endswith('.wav'): \n",
    "        audio_files.append(file)  \n",
    "# convert the list to a df \n",
    "audio_files_df = pd.DataFrame(audio_files, columns=['audio_paths'])\n",
    "\n"
   ]
  },
  {
   "cell_type": "code",
   "execution_count": 2,
   "metadata": {},
   "outputs": [
    {
     "data": {
      "text/html": [
       "<div>\n",
       "<style scoped>\n",
       "    .dataframe tbody tr th:only-of-type {\n",
       "        vertical-align: middle;\n",
       "    }\n",
       "\n",
       "    .dataframe tbody tr th {\n",
       "        vertical-align: top;\n",
       "    }\n",
       "\n",
       "    .dataframe thead th {\n",
       "        text-align: right;\n",
       "    }\n",
       "</style>\n",
       "<table border=\"1\" class=\"dataframe\">\n",
       "  <thead>\n",
       "    <tr style=\"text-align: right;\">\n",
       "      <th></th>\n",
       "      <th>audio_paths</th>\n",
       "    </tr>\n",
       "  </thead>\n",
       "  <tbody>\n",
       "    <tr>\n",
       "      <th>0</th>\n",
       "      <td>101_1b1_Al_sc_Meditron.wav</td>\n",
       "    </tr>\n",
       "    <tr>\n",
       "      <th>1</th>\n",
       "      <td>101_1b1_Pr_sc_Meditron.wav</td>\n",
       "    </tr>\n",
       "    <tr>\n",
       "      <th>2</th>\n",
       "      <td>102_1b1_Ar_sc_Meditron.wav</td>\n",
       "    </tr>\n",
       "    <tr>\n",
       "      <th>3</th>\n",
       "      <td>103_2b2_Ar_mc_LittC2SE.wav</td>\n",
       "    </tr>\n",
       "    <tr>\n",
       "      <th>4</th>\n",
       "      <td>104_1b1_Al_sc_Litt3200.wav</td>\n",
       "    </tr>\n",
       "    <tr>\n",
       "      <th>...</th>\n",
       "      <td>...</td>\n",
       "    </tr>\n",
       "    <tr>\n",
       "      <th>915</th>\n",
       "      <td>224_1b2_Al_sc_Meditron.wav</td>\n",
       "    </tr>\n",
       "    <tr>\n",
       "      <th>916</th>\n",
       "      <td>225_1b1_Pl_sc_Meditron.wav</td>\n",
       "    </tr>\n",
       "    <tr>\n",
       "      <th>917</th>\n",
       "      <td>226_1b1_Al_sc_Meditron.wav</td>\n",
       "    </tr>\n",
       "    <tr>\n",
       "      <th>918</th>\n",
       "      <td>226_1b1_Ll_sc_Meditron.wav</td>\n",
       "    </tr>\n",
       "    <tr>\n",
       "      <th>919</th>\n",
       "      <td>226_1b1_Pl_sc_LittC2SE.wav</td>\n",
       "    </tr>\n",
       "  </tbody>\n",
       "</table>\n",
       "<p>920 rows × 1 columns</p>\n",
       "</div>"
      ],
      "text/plain": [
       "                    audio_paths\n",
       "0    101_1b1_Al_sc_Meditron.wav\n",
       "1    101_1b1_Pr_sc_Meditron.wav\n",
       "2    102_1b1_Ar_sc_Meditron.wav\n",
       "3    103_2b2_Ar_mc_LittC2SE.wav\n",
       "4    104_1b1_Al_sc_Litt3200.wav\n",
       "..                          ...\n",
       "915  224_1b2_Al_sc_Meditron.wav\n",
       "916  225_1b1_Pl_sc_Meditron.wav\n",
       "917  226_1b1_Al_sc_Meditron.wav\n",
       "918  226_1b1_Ll_sc_Meditron.wav\n",
       "919  226_1b1_Pl_sc_LittC2SE.wav\n",
       "\n",
       "[920 rows x 1 columns]"
      ]
     },
     "execution_count": 2,
     "metadata": {},
     "output_type": "execute_result"
    }
   ],
   "source": [
    "audio_files_df"
   ]
  },
  {
   "cell_type": "code",
   "execution_count": null,
   "metadata": {},
   "outputs": [],
   "source": []
  }
 ],
 "metadata": {
  "kernelspec": {
   "display_name": "Python 3",
   "language": "python",
   "name": "python3"
  },
  "language_info": {
   "codemirror_mode": {
    "name": "ipython",
    "version": 3
   },
   "file_extension": ".py",
   "mimetype": "text/x-python",
   "name": "python",
   "nbconvert_exporter": "python",
   "pygments_lexer": "ipython3",
   "version": "3.12.0"
  }
 },
 "nbformat": 4,
 "nbformat_minor": 2
}
